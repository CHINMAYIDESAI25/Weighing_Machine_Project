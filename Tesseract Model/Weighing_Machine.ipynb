{
  "nbformat": 4,
  "nbformat_minor": 0,
  "metadata": {
    "colab": {
      "provenance": []
    },
    "kernelspec": {
      "name": "python3",
      "display_name": "Python 3"
    },
    "language_info": {
      "name": "python"
    }
  },
  "cells": [
    {
      "cell_type": "code",
      "execution_count": null,
      "metadata": {
        "colab": {
          "base_uri": "https://localhost:8080/"
        },
        "id": "LxIUBF-O3p0F",
        "outputId": "ac690c17-8b7f-4c3c-83ca-419f8369b1d9"
      },
      "outputs": [
        {
          "output_type": "stream",
          "name": "stdout",
          "text": [
            "Reading package lists... Done\n",
            "Building dependency tree... Done\n",
            "Reading state information... Done\n",
            "The following additional packages will be installed:\n",
            "  tesseract-ocr-eng tesseract-ocr-osd\n",
            "The following NEW packages will be installed:\n",
            "  tesseract-ocr tesseract-ocr-eng tesseract-ocr-osd\n",
            "0 upgraded, 3 newly installed, 0 to remove and 45 not upgraded.\n",
            "Need to get 4,816 kB of archives.\n",
            "After this operation, 15.6 MB of additional disk space will be used.\n",
            "Get:1 http://archive.ubuntu.com/ubuntu jammy/universe amd64 tesseract-ocr-eng all 1:4.00~git30-7274cfa-1.1 [1,591 kB]\n",
            "Get:2 http://archive.ubuntu.com/ubuntu jammy/universe amd64 tesseract-ocr-osd all 1:4.00~git30-7274cfa-1.1 [2,990 kB]\n",
            "Get:3 http://archive.ubuntu.com/ubuntu jammy/universe amd64 tesseract-ocr amd64 4.1.1-2.1build1 [236 kB]\n",
            "Fetched 4,816 kB in 0s (26.5 MB/s)\n",
            "debconf: unable to initialize frontend: Dialog\n",
            "debconf: (No usable dialog-like program is installed, so the dialog based frontend cannot be used. at /usr/share/perl5/Debconf/FrontEnd/Dialog.pm line 78, <> line 3.)\n",
            "debconf: falling back to frontend: Readline\n",
            "debconf: unable to initialize frontend: Readline\n",
            "debconf: (This frontend requires a controlling tty.)\n",
            "debconf: falling back to frontend: Teletype\n",
            "dpkg-preconfigure: unable to re-open stdin: \n",
            "Selecting previously unselected package tesseract-ocr-eng.\n",
            "(Reading database ... 121918 files and directories currently installed.)\n",
            "Preparing to unpack .../tesseract-ocr-eng_1%3a4.00~git30-7274cfa-1.1_all.deb ...\n",
            "Unpacking tesseract-ocr-eng (1:4.00~git30-7274cfa-1.1) ...\n",
            "Selecting previously unselected package tesseract-ocr-osd.\n",
            "Preparing to unpack .../tesseract-ocr-osd_1%3a4.00~git30-7274cfa-1.1_all.deb ...\n",
            "Unpacking tesseract-ocr-osd (1:4.00~git30-7274cfa-1.1) ...\n",
            "Selecting previously unselected package tesseract-ocr.\n",
            "Preparing to unpack .../tesseract-ocr_4.1.1-2.1build1_amd64.deb ...\n",
            "Unpacking tesseract-ocr (4.1.1-2.1build1) ...\n",
            "Setting up tesseract-ocr-eng (1:4.00~git30-7274cfa-1.1) ...\n",
            "Setting up tesseract-ocr-osd (1:4.00~git30-7274cfa-1.1) ...\n",
            "Setting up tesseract-ocr (4.1.1-2.1build1) ...\n",
            "Processing triggers for man-db (2.10.2-1) ...\n"
          ]
        }
      ],
      "source": [
        "!sudo apt install tesseract-ocr"
      ]
    },
    {
      "cell_type": "code",
      "source": [
        "!mkdir fonts output train"
      ],
      "metadata": {
        "id": "urmdnctOCcxh"
      },
      "execution_count": null,
      "outputs": []
    },
    {
      "cell_type": "code",
      "source": [
        "font_name = 'Seven Segment' #@param {type: \"string\"}"
      ],
      "metadata": {
        "id": "azbpqfr0Ckd2"
      },
      "execution_count": null,
      "outputs": []
    },
    {
      "cell_type": "code",
      "source": [
        "from google.colab import drive\n",
        "drive.mount('/content/drive')"
      ],
      "metadata": {
        "id": "lH6uW3ybCkyG",
        "colab": {
          "base_uri": "https://localhost:8080/"
        },
        "outputId": "072cbd75-ac16-45c3-ed8c-b5897c330716"
      },
      "execution_count": null,
      "outputs": [
        {
          "output_type": "stream",
          "name": "stdout",
          "text": [
            "Drive already mounted at /content/drive; to attempt to forcibly remount, call drive.mount(\"/content/drive\", force_remount=True).\n"
          ]
        }
      ]
    },
    {
      "cell_type": "code",
      "source": [
        "!chmod 755 -R /content/drive/MyDrive/tesseract/src/training/tesstrain.sh"
      ],
      "metadata": {
        "id": "szGDYsTUDxE8"
      },
      "execution_count": null,
      "outputs": []
    },
    {
      "cell_type": "code",
      "source": [
        "!combine_tessdata -e /content/drive/MyDrive/tesseract/tessdata/eng.traineddata eng.lstm"
      ],
      "metadata": {
        "colab": {
          "base_uri": "https://localhost:8080/"
        },
        "id": "UfPTIAc-DxQN",
        "outputId": "460dec81-a094-49a0-a90d-a60ac21211e7"
      },
      "execution_count": null,
      "outputs": [
        {
          "output_type": "stream",
          "name": "stdout",
          "text": [
            "Extracting tessdata components from /content/drive/MyDrive/tesseract/tessdata/eng.traineddata\n",
            "Wrote eng.lstm\n",
            "Version string:4.00.00alpha:eng:synth20170629:[1,36,0,1Ct3,3,16Mp3,3Lfys64Lfx96Lrx96Lfx512O1c1]\n",
            "17:lstm:size=11689099, offset=192\n",
            "18:lstm-punc-dawg:size=4322, offset=11689291\n",
            "19:lstm-word-dawg:size=3694794, offset=11693613\n",
            "20:lstm-number-dawg:size=4738, offset=15388407\n",
            "21:lstm-unicharset:size=6360, offset=15393145\n",
            "22:lstm-recoder:size=1012, offset=15399505\n",
            "23:version:size=80, offset=15400517\n"
          ]
        }
      ]
    },
    {
      "cell_type": "code",
      "source": [
        "!rm -rf train/*\n",
        "! /content/drive/MyDrive/tesseract/src/training/tesstrain.sh --fonts_dir fonts \\\n",
        "\t--fontlist '{font_name}' \\\n",
        "\t--lang eng \\\n",
        "\t--linedata_only \\\n",
        "\t--langdata_dir /content/drive/MyDrive/langdata_lstm \\\n",
        "\t--tessdata_dir /content/drive/MyDrive/tesseract/tessdata \\\n",
        "\t--save_box_tiff \\\n",
        "\t--maxpages 10 \\\n",
        "\t--output_dir train"
      ],
      "metadata": {
        "colab": {
          "base_uri": "https://localhost:8080/"
        },
        "id": "z6piMkrvDxcW",
        "outputId": "f3cdff34-5c0d-404d-e482-aa55db804b36"
      },
      "execution_count": null,
      "outputs": [
        {
          "output_type": "stream",
          "name": "stdout",
          "text": [
            "\n",
            "=== Starting training for language 'eng'\n",
            "[Wed May 15 08:49:15 AM UTC 2024] /usr/bin/text2image --fonts_dir=fonts --ptsize 12 --font=Seven Segment --outputbase=/tmp/font_tmp.e3Tv0N53cR/sample_text.txt --text=/tmp/font_tmp.e3Tv0N53cR/sample_text.txt --fontconfig_tmpdir=/tmp/font_tmp.e3Tv0N53cR\n",
            "Rendered page 0 to file /tmp/font_tmp.e3Tv0N53cR/sample_text.txt.tif\n",
            "\n",
            "=== Phase I: Generating training images ===\n",
            "Rendering using Seven Segment\n",
            "[Wed May 15 08:49:17 AM UTC 2024] /usr/bin/text2image --fontconfig_tmpdir=/tmp/font_tmp.e3Tv0N53cR --fonts_dir=fonts --strip_unrenderable_words --leading=32 --xsize=3600 --char_spacing=0.0 --exposure=0 --outputbase=/tmp/eng-2024-05-15.srG/eng.Seven_Segment.exp0 --max_pages=10 --font=Seven Segment --ptsize 12 --text=/content/drive/MyDrive/langdata_lstm/eng/eng.training_text\n",
            "Stripped 50 unrenderable words\n",
            "Rendered page 0 to file /tmp/eng-2024-05-15.srG/eng.Seven_Segment.exp0.tif\n",
            "Stripped 37 unrenderable words\n",
            "Rendered page 1 to file /tmp/eng-2024-05-15.srG/eng.Seven_Segment.exp0.tif\n",
            "Stripped 35 unrenderable words\n",
            "Rendered page 2 to file /tmp/eng-2024-05-15.srG/eng.Seven_Segment.exp0.tif\n",
            "Stripped 44 unrenderable words\n",
            "Rendered page 3 to file /tmp/eng-2024-05-15.srG/eng.Seven_Segment.exp0.tif\n",
            "Stripped 28 unrenderable words\n",
            "Rendered page 4 to file /tmp/eng-2024-05-15.srG/eng.Seven_Segment.exp0.tif\n",
            "Stripped 43 unrenderable words\n",
            "Rendered page 5 to file /tmp/eng-2024-05-15.srG/eng.Seven_Segment.exp0.tif\n",
            "Stripped 43 unrenderable words\n",
            "Rendered page 6 to file /tmp/eng-2024-05-15.srG/eng.Seven_Segment.exp0.tif\n",
            "Stripped 26 unrenderable words\n",
            "Rendered page 7 to file /tmp/eng-2024-05-15.srG/eng.Seven_Segment.exp0.tif\n",
            "Stripped 49 unrenderable words\n",
            "Rendered page 8 to file /tmp/eng-2024-05-15.srG/eng.Seven_Segment.exp0.tif\n",
            "Stripped 39 unrenderable words\n",
            "Rendered page 9 to file /tmp/eng-2024-05-15.srG/eng.Seven_Segment.exp0.tif\n",
            "\n",
            "=== Phase UP: Generating unicharset and unichar properties files ===\n",
            "[Wed May 15 08:49:25 AM UTC 2024] /usr/bin/unicharset_extractor --output_unicharset /tmp/eng-2024-05-15.srG/eng.unicharset --norm_mode 1 /tmp/eng-2024-05-15.srG/eng.Seven_Segment.exp0.box\n",
            "Extracting unicharset from box file /tmp/eng-2024-05-15.srG/eng.Seven_Segment.exp0.box\n",
            "Other case É of é is not in unicharset\n",
            "Wrote unicharset file /tmp/eng-2024-05-15.srG/eng.unicharset\n",
            "[Wed May 15 08:49:25 AM UTC 2024] /usr/bin/set_unicharset_properties -U /tmp/eng-2024-05-15.srG/eng.unicharset -O /tmp/eng-2024-05-15.srG/eng.unicharset -X /tmp/eng-2024-05-15.srG/eng.xheights --script_dir=/content/drive/MyDrive/langdata_lstm\n",
            "Loaded unicharset of size 100 from file /tmp/eng-2024-05-15.srG/eng.unicharset\n",
            "Setting unichar properties\n",
            "Other case É of é is not in unicharset\n",
            "Setting script properties\n",
            "Writing unicharset to file /tmp/eng-2024-05-15.srG/eng.unicharset\n",
            "\n",
            "=== Phase E: Generating lstmf files ===\n",
            "Using TESSDATA_PREFIX=/content/drive/MyDrive/tesseract/tessdata\n",
            "[Wed May 15 08:49:25 AM UTC 2024] /usr/bin/tesseract /tmp/eng-2024-05-15.srG/eng.Seven_Segment.exp0.tif /tmp/eng-2024-05-15.srG/eng.Seven_Segment.exp0 --psm 6 lstm.train\n",
            "Tesseract Open Source OCR Engine v4.1.1 with Leptonica\n",
            "Page 1\n",
            "Page 2\n",
            "Loaded 54/54 lines (1-54) of document /tmp/eng-2024-05-15.srG/eng.Seven_Segment.exp0.lstmf\n",
            "Page 3\n",
            "Loaded 108/108 lines (1-108) of document /tmp/eng-2024-05-15.srG/eng.Seven_Segment.exp0.lstmf\n",
            "Page 4\n",
            "Loaded 162/162 lines (1-162) of document /tmp/eng-2024-05-15.srG/eng.Seven_Segment.exp0.lstmf\n",
            "Page 5\n",
            "Loaded 216/216 lines (1-216) of document /tmp/eng-2024-05-15.srG/eng.Seven_Segment.exp0.lstmf\n",
            "Page 6\n",
            "Loaded 270/270 lines (1-270) of document /tmp/eng-2024-05-15.srG/eng.Seven_Segment.exp0.lstmf\n",
            "Page 7\n",
            "Loaded 324/324 lines (1-324) of document /tmp/eng-2024-05-15.srG/eng.Seven_Segment.exp0.lstmf\n",
            "Page 8\n",
            "Loaded 378/378 lines (1-378) of document /tmp/eng-2024-05-15.srG/eng.Seven_Segment.exp0.lstmf\n",
            "Page 9\n",
            "Loaded 432/432 lines (1-432) of document /tmp/eng-2024-05-15.srG/eng.Seven_Segment.exp0.lstmf\n",
            "Page 10\n",
            "Loaded 486/486 lines (1-486) of document /tmp/eng-2024-05-15.srG/eng.Seven_Segment.exp0.lstmf\n",
            "\n",
            "=== Constructing LSTM training data ===\n",
            "[Wed May 15 08:49:31 AM UTC 2024] /usr/bin/combine_lang_model --input_unicharset /tmp/eng-2024-05-15.srG/eng.unicharset --script_dir /content/drive/MyDrive/langdata_lstm --words /content/drive/MyDrive/langdata_lstm/eng/eng.wordlist --numbers /content/drive/MyDrive/langdata_lstm/eng/eng.numbers --puncs /content/drive/MyDrive/langdata_lstm/eng/eng.punc --output_dir train --lang eng\n",
            "Loaded unicharset of size 100 from file /tmp/eng-2024-05-15.srG/eng.unicharset\n",
            "Setting unichar properties\n",
            "Other case É of é is not in unicharset\n",
            "Setting script properties\n",
            "Config file is optional, continuing...\n",
            "Failed to read data from: /content/drive/MyDrive/langdata_lstm/eng/eng.config\n",
            "Null char=2\n",
            "Reducing Trie to SquishedDawg\n",
            "Reducing Trie to SquishedDawg\n",
            "Reducing Trie to SquishedDawg\n",
            "\n",
            "=== Saving box/tiff pairs for training data ===\n",
            "Moving /tmp/eng-2024-05-15.srG/eng.Seven_Segment.exp0.box to train\n",
            "Moving /tmp/eng-2024-05-15.srG/eng.Seven_Segment.exp0.tif to train\n",
            "\n",
            "=== Moving lstmf files for training data ===\n",
            "Moving /tmp/eng-2024-05-15.srG/eng.Seven_Segment.exp0.lstmf to train\n",
            "\n",
            "Created starter traineddata for LSTM training of language 'eng'\n",
            "\n",
            "\n",
            "Run 'lstmtraining' command to continue LSTM training for language 'eng'\n",
            "\n"
          ]
        }
      ]
    },
    {
      "cell_type": "code",
      "source": [
        "%%shell\n",
        "\n",
        "rm -rf output/*\n",
        "OMP_THREAD_LIMIT=16 lstmtraining \\\n",
        "\t--continue_from eng.lstm \\\n",
        "\t--model_output output/font_name \\\n",
        "\t--traineddata /content/drive/MyDrive/tesseract/tessdata/eng.traineddata \\\n",
        "\t--train_listfile train/eng.training_files.txt \\\n",
        "\t--max_iterations 200"
      ],
      "metadata": {
        "id": "E06F4ybTFKE0",
        "colab": {
          "base_uri": "https://localhost:8080/"
        },
        "outputId": "22d9411a-4195-48b5-93a2-81f46b6f0a65"
      },
      "execution_count": null,
      "outputs": [
        {
          "output_type": "stream",
          "name": "stdout",
          "text": [
            "Loaded file eng.lstm, unpacking...\n",
            "Warning: LSTMTrainer deserialized an LSTMRecognizer!\n",
            "Continuing from eng.lstm\n",
            "Loaded 540/540 lines (1-540) of document train/eng.Seven_Segment.exp0.lstmf\n",
            "2 Percent improvement time=100, best error was 100 @ 0\n",
            "At iteration 100/100/100, Mean rms=4.004%, delta=23.856%, char train=70.103%, word train=85.017%, skip ratio=0%,  New best char error = 70.103 wrote best model:output/font_name70.103_100.checkpoint wrote checkpoint.\n",
            "\n",
            "2 Percent improvement time=100, best error was 70.103 @ 100\n",
            "At iteration 200/200/200, Mean rms=3.775%, delta=21.782%, char train=65.023%, word train=85.908%, skip ratio=0%,  New best char error = 65.023 wrote best model:output/font_name65.023_200.checkpoint wrote checkpoint.\n",
            "\n",
            "Finished! Error rate = 65.023\n"
          ]
        },
        {
          "output_type": "execute_result",
          "data": {
            "text/plain": []
          },
          "metadata": {},
          "execution_count": 9
        }
      ]
    },
    {
      "cell_type": "code",
      "source": [
        "%%shell\n",
        "\n",
        "lstmtraining --stop_training \\\n",
        "\t--continue_from output/font_name_checkpoint \\\n",
        "\t--traineddata /content/drive/MyDrive/tesseract/tessdata/eng.traineddata \\\n",
        "\t--model_output output/font_name.traineddata"
      ],
      "metadata": {
        "id": "lbiOfdGfFKMS",
        "colab": {
          "base_uri": "https://localhost:8080/"
        },
        "outputId": "1e4c7214-46f4-4c7e-a6dc-d12677e43387"
      },
      "execution_count": null,
      "outputs": [
        {
          "output_type": "stream",
          "name": "stdout",
          "text": [
            "Loaded file output/font_name_checkpoint, unpacking...\n"
          ]
        },
        {
          "output_type": "execute_result",
          "data": {
            "text/plain": []
          },
          "metadata": {},
          "execution_count": 10
        }
      ]
    },
    {
      "cell_type": "code",
      "source": [],
      "metadata": {
        "id": "wIFC7b5dpxoO"
      },
      "execution_count": null,
      "outputs": []
    }
  ]
}